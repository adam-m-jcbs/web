{
 "cells": [
  {
   "cell_type": "markdown",
   "metadata": {},
   "source": [
    "# PDP Team 11 Design/Course Prep Planning Meeting\n",
    "## August 21, 2018\n",
    "\n",
    "Meeting goal: discuss PDP team 11's current status and plan August activities.\n",
    "\n",
    "[Design notebook](https://docs.google.com/document/d/1iexo2xeYYIVDWD_pfgW4sOA5sRZSStsGNth-_bU_lrU/edit#)  \n",
    "[Teaching plan](https://docs.google.com/document/d/1xb4omX9AnZTlrfoPtOVJf1j6Hr_BCGGEwoEH_YzwSWc/edit)"
   ]
  },
  {
   "cell_type": "markdown",
   "metadata": {},
   "source": [
    "### Overview of Teaching Plan Status, Priorities\n",
    "\n",
    "**Teaching Plan Items**  \n",
    "~~Strikethrough~~ means drafted in Teaching Plan  \n",
    "* ~~Meta Info~~\n",
    "* Content learning outcomes  \n",
    "    * Requires: ~~Content rubric~~\n",
    "    * Requires: ~~Content prompt~~\n",
    "* Practice learning outcomes\n",
    "    * Requires: ~~Practice rubric~~\n",
    "* ~~E&I Approach~~\n",
    "* Inquiry Activity\n",
    "    * Set of ODE model systems for students to explore (So far: chem rxn, SIR, pred-prey, climate/carbon cycle)\n",
    "    * Introduction (Adam, partially completed NBs, partially drafted TP description)\n",
    "    * Raising Questions, Investigations (Need someone to draft this in TP)\n",
    "    * CAT (Culminating Assessment Task) (Need someone to draft this in TP)\n",
    "    * Synthesis (Not a current priority)\n",
    "    \n",
    "Note that learning outcomes are largely derived from other elements, basically a different way of expressing the design elements.  Thus, these are not currently a priority and my current plan is to quickly draft these after the core of the inquiry activity is designed.\n",
    "\n",
    "**Priorities**  \n",
    "* ~~Determine set of ODE model systems~~ (chem rxn, SIR, pred-prey, climate)\n",
    "* Draft teaching plan (in my view, RQ and Synthesis require the least amount of intensive design so I think one person should be responsible for both)\n",
    "    * Sketch out full overview\n",
    "    * Intro/overview (Adam)\n",
    "    * Raising Questions ()\n",
    "    * Investigations ()\n",
    "    * CAT ()\n",
    "    * Synthesis ()\n",
    "* Develop introduction materials, draft teaching plan section (Materials pretty close, ~~need to describe in TP~~)\n",
    "\n",
    "**Resources**  \n",
    "+ [My Teaching Plan from 2017](https://docs.google.com/document/d/19H6B-tDZXfbhCyMJK9rY-4GXo02VfCfaBAF4sXs5nY8/edit)  \n",
    "+ [A collection of notebooks that work with compartmental models from CMSE](https://drive.google.com/drive/folders/14Vp_rWkCKQs2MwNjQqxxCUGO6E5ZpPRI?usp=sharing)\n",
    "+ [Philipp's example NB](http://nbviewer.jupyter.org/url/pgrete.de/dl/predator-prey.ipynb)"
   ]
  },
  {
   "cell_type": "markdown",
   "metadata": {},
   "source": [
    "### Tasks"
   ]
  },
  {
   "cell_type": "markdown",
   "metadata": {},
   "source": [
    "Previously, we had said our goal for this meeting wasn't necessarily to draft, but to figure out what needs to be done to draft by ~next Tuesday (Aug 28).\n",
    "\n",
    "+ Develop Introduction Material, Draft in Teaching Plan (**Adam**)\n",
    "    + Intro materials have progressed, but still need to be finished\n",
    "    + I've drafted the into in the Teaching Plan with a few todos/points of discussion\n",
    "    + TP TODOs:\n",
    "        + Draft overview of activity\n",
    "        + Do we want an activity in the intro? Like writing backward Euler? I'm leaning toward no, but this was mentioned and I want to see what other elements are looking like\n",
    "    + Course TODOs:\n",
    "        + Develop intro notebook and any intro lecture material\n",
    "        + Have a set of reference notebooks for each model we give the students (Rxns, pred-prey, SIR, climate)\n",
    "    \n",
    "+ Draft Raising Questions\n",
    "    + TP TODOs:\n",
    "    + Course TODOs:\n",
    "\n",
    "+ Draft Investigations\n",
    "    + TP TODOs:\n",
    "    + Course TODOs:\n",
    "\n",
    "+ Draft CAT\n",
    "    + TP TODOS:\n",
    "    + Course TODOs:\n",
    "    \n",
    "+ Draft Synthesis (low priority)\n",
    "    + TP TODOS:\n",
    "    + Course TODOs:\n"
   ]
  },
  {
   "cell_type": "markdown",
   "metadata": {},
   "source": [
    "### Next Meeting\n",
    "\n",
    "+ Polish TP draft\n",
    "\n",
    "Overview sketch (todo: add time estimates):\n",
    "1. Pre-class 1 (<~ 1 hr of effort should be expected)\n",
    "Students receive a Jupyter Notebook in the \"flipped class\" style common in CMSE.  The notebook introduces the core background concepts (compartmental model, finite difference) and gives an overview of the activity we'll do over two classes.\n",
    "\n",
    "Pre-class assignment? Could be exploration of same model?\n",
    "\n",
    "2. Class 1 (1hr50m)\n",
    "\n",
    "\n",
    "3. 1 to 2 transition (if anything, on the order of 30 min)\n",
    "\n",
    "\n",
    "4. Class 2 (1hr50m)\n",
    "\n",
    "\n",
    "Ideas:\n",
    "+ combine implement of FD with testing.\n",
    "+ preclass activity focuses on uncoverage, show them reference model behavior, have them make predictions.\n",
    "+ intro includes bare bones example of using odeint\n",
    "\n",
    "Questions, seeking feedback:\n",
    "+ what should pre-class assignment look like?  We don't have to have one, but I think it would be good to do."
   ]
  }
 ],
 "metadata": {
  "kernelspec": {
   "display_name": "Python 3",
   "language": "python",
   "name": "python3"
  },
  "language_info": {
   "codemirror_mode": {
    "name": "ipython",
    "version": 3
   },
   "file_extension": ".py",
   "mimetype": "text/x-python",
   "name": "python",
   "nbconvert_exporter": "python",
   "pygments_lexer": "ipython3",
   "version": "3.6.6"
  }
 },
 "nbformat": 4,
 "nbformat_minor": 2
}
