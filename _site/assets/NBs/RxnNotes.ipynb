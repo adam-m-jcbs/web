{
 "cells": [
  {
   "cell_type": "markdown",
   "metadata": {},
   "source": [
    "# Notes on key reactions in helium-rich shells in sub-Chandra systems\n",
    "\n",
    "[Shen & Bildsten 2009](http://adsabs.harvard.edu/abs/2009ApJ...699.1365S) explores burning in helium-rich shells accreted onto WDs using spherical hydrostatic calculations that include approximations for convection.  They essentially calculate up to the point that they expect burning to be dynamical (i.e. hydrostatic calculations are no longer applicable, which they define as the point at which the heating timescale of reactions at the base of the envelope becomes comparable with the sound-crossing time in the shell).  The most important section for us is 4, where they consider reactions that can be important for dynamical burning.  In the context of Maestro or Castro models of helium shell dynamics, the relevant findings are\n",
    "\n",
    "1. $^{14}N$ that is plausibly accreted at **$X_{n14} \\approx 9 \\times 10^{-3}$** should remain as $^{14}N$ as the system evolves toward dynamical burning.  This suggests **a good initial envelope composition in Maestro/Castro models of double detonation would be $X_{he4} = 0.99$, $X_{n14} = 0.01$**.  We bump the $X_{n14}$ up to 0.01 because we don't intend or need to include the trace metals making up the last 0.001 of the total mass fraction.\n",
    "\n",
    "   The NCO reaction chain $^{14}N(e-, \\nu)^{14}C(\\alpha, \\gamma)^{18}O(\\alpha, \\gamma)^{22}Ne$ is a worry, as it  could transform accreted 14N into other isotopes before dynamical burning starts.  However, the authors argue the conditions they find do not permit an appreciable amount of electron captures on $^{14}N$ before dynamical burning.  They give $\\rho \\approx 1.2 \\times 10^6$ g cm$^{-3}$ as the threshold density beyond which electron captures outpace beta decays, and for cores up to 1.3 $M_\\odot$ they find the equivalent pressure is not achieved at the base of the accreted envelopes.  I will note Woosley & Kasen 2011 discuss different assumptions deployed in their models that significantly impact the density at the base of the envelope.\n",
    "   \n",
    "    Furthermore, the timescale for the electron capture to appreciably deplete $^{14}N$ is ~ $10^7$ yr while it takes ~ $10^6$ yr to accrete a 0.1 $M_\\odot$ envelope.  So even if sufficient pressures are reached, not much of the $^{14}N$ may be burned to $^{14}C$.\n",
    "    \n",
    "   Given there being some uncertainty, they do explore the impact of $^{14}C$.  My sense is that while exploration of $^{14}C$ is interesting and quite relevant in some situations, it is a secondary or tertiary concern for us.\n",
    "\n",
    "2. Alpha-chain elements $^{12}C$, $^{16}O$, $^{20}Ne$, and $^{24}Mg$ produced either by nucleosynthesis or core dredge up will remain unburned in the evolution up to dynamical burning.  The amount of core dredge up and mixing is unclear and a possible point of investigation for Maestro.  These isotopes can significantly impact the explosive dynamics if they're present, for example by reducing the ZND detonation length-scale.  So if we do explosive simulations with Castro, they would be important to consider and possibly put into the network.\n",
    "\n",
    "3. We care about (1) because of the reaction sequence **$^{14}N(\\alpha, \\gamma)^{18}F(\\alpha,p)^{21}Ne$.  This sequence is a proton source, which enables the reaction sequence $^{12}C(p,\\gamma)^{13}N(\\alpha,p)^{16}O$, a much more favored and energetic reaction than $^{12}C(\\alpha,\\gamma)^{16}O$**.  This could impact pre-detonation evolution modelled by Maestro and will certainly impact Castro models of explosion, assuming $^{14}N$ is in the initial envelope.\n",
    "\n",
    "[Shen & Moore 2014](http://adsabs.harvard.edu/abs/2014ApJ...797...46S) uses the analysis of Shen & Bildsten 2009 to provide initial compositions for dynamical calculations of helium detonations.  Their goal is to determine the minimum size of a hotspot in the helium-rich envelope that can launch a detonation.  The work of [Holcomb et al 2013](http://adsabs.harvard.edu/abs/2013ApJ...771...14H) found the minimum size to be so large as to be prohibitive, not boding well for the double-detonation model.  However, they assumed pure helium.  By using a larger network and including key reactions such as discussed in Shen & Bildsten 2009, the minimally detonatable hotspot is drastically reduced in size such that it can plausibly manifest in the He-rich shell.\n",
    "\n",
    "[Woosley & Kasen 2011](http://adsabs.harvard.edu/abs/2011ApJ...734...38W) is a quite exhaustive, modern exploration of sub-Chandra systems of an accreting CO WD in which a variety of outcomes are found (including double detonation).  Unlike the previous works, these are fully hydrodynamic models.  In the context of reactions, sections 2.1 and 2.3 are most relevant.\n",
    "\n",
    "2.1 discusses the nuclear physics of their model.  In particular:\n",
    "- They also point out the importance of the bypass of alpha capture on Carbon, i.e including $^{12}C(p,\\gamma)^{13}N(\\alpha,p)^{16}O$.  \n",
    "- They note their inclusion of NCO, $^{14}N(e-, \\nu)^{14}C(\\alpha, \\gamma)^{18}O(\\alpha, \\gamma)^{22}Ne$.  This is expected to happen at interesting rates at the base of the envelope for $\\rho \\approx 2 \\times 10^6$ g cm$^{-3}$, based on Hashimoto et al 1986.  This corroborates Shen & Bildsten 2009's discussion.  What's unfortunate is that they do not really engage with SB2009's timescale arguments for neglecting NCO in phases prior to dynamical burning.  They could've used Kepler to determine more precisely the phases of evolution during which NCO matters.  Instead, see discussion of Bauer et al 2017 below.  They also do not explore the impact of this reaction on their ultimate outcomes.  So it's difficult to use this paper to determine which reactions should be in a pre-explosive Maestro calculation versus and explosive Castro calculation.\n",
    "\n",
    "2.3 discusses their initial model.  Of particular note is the core and shell compositions.  The core is $X_{c12} = X_{o16} = 0.495$, $X_{ne22} = 0.01$.  The accreted (envelope) composition is $X_{he4} = 0.99$, $X_{n14} = 0.01$.  These can offer a guide for compositions to explore when doing test burns.\n",
    "\n",
    "[Bauer, Schwab, & Bildsten 2017](http://adsabs.harvard.edu/abs/2017ApJ...845...97B) explicity investigates $^{14}N$ and the NCO reaction using `MESA`.  The catch, for those interested in double-detonation models, is that they're modeling AM CVn binaries with accretion rates ($\\sim 10^{-8} ~ M_{\\odot}$ yr$^{-1}$) such that a relatively large helium shell develops ($\\gtrsim 0.1 ~ M_{\\odot}$, in particular, they're making models of CD-30$^{\\circ}$11223).  These shells are more massive than the minimally detonatable shells and makes them a poor candidate for double-detonation SNe Ia progenitors.  This also means they have relatively high densities at the base of the accreted envelope, which makes NCO easier to progress.  So NCO is likely still negligible in the accretion and pre-explosive simmering Maestro might model for a double-detonation (with the possible exception of the runaway development itself).  Nonetheless, this reaction has been a point of focus in the literature and will be relevant for any Castro models of the explosion.  Any sub-Chandra and/or double-det studies will likely be expected by referees to either include NCO or provide an argument for its negligibility.  With all that caution out of the way, let's see what the authors find.\n",
    "\n",
    "Consistent with others, they give a critical density for electron captures on $^{14}N$ of $1.25 \\times 10^6$ g cm$^{-3}$.  They remind us that though this capture starts the NCO chain, most of the energy released by the reaction comes from the alpha capture on $^{14}C$, which can set off a thermonuclear flash _before_ triple-alpha can (again Hashimoto et al 1986 is mentioned here).  They note the older sub-Chandra study of Woosley & Weaver 1994 included the NCO chain in addition to the newer one described above (Woosley & Kasen 2011).  Interestingly, they interpret WK 2011 as demonstrating NCO reduces the density at which runaway is initiated.  To me, this implies NCO _is_ important before runaway.  I really wish I could extract from WK 2011 the evolutionary phases over which NCO matters.  Shen & Bildsten 2009's claim that this reaction doesn't matter before \"dynamical\" burning.  It's possible there is a phase of dynamical burning that is still subsonic and lasts for a longer period of time than Maestro can feasibly model.  If so, we'd want to figure out how much $^{14}C$ is produced as a potential fuel that will lead to runaway sooner (lower densities/temps), and include this in a Maestro calculation.\n",
    "\n",
    "They discuss uncertainty in the $^{14}C(\\alpha, \\gamma)^{18}O$ rate.  It may be of some interest toplay around with different rates in Maestro/Castro studies, but is likely a secondary concern at this stage.  Most of the uncertainties dominate for $T \\sim 3$-$300 \\times 10^8 K$.  Maestro calculations are close to runaway by the time $T \\sim 3 \\times 10^8 K$. But for Castro calculations of explosion, alternative rates may have an important impact.\n",
    "\n",
    "The authors start with a reference grid of models in which NCO is turned off.  They accrete onto 0.7, 0.8, 0.9, and 1.0 $M_{\\odot}$ CO WD cores.  Figure 4 and the related discussion imply that NCO may heat the base of the envelope for our cores $\\geq 1.0 ~ M_{\\odot}$, with 1.0 $M_{\\odot}$ cores being right at the cusp of where this may matter.  For lower mass cores, one would need to accrete a large enough envelop that the model is likely not able to produce something looking like a SNe Ia, but is still something of interest to explore.  I'll note that they accrete onto a WD with a core temperature of $T_c = 2 \\times 10^7~\\mathrm{K}$.  WK 2011 note their best SNe Ia candidates are \"hot\" cores, with $T_c \\approx 1 \\times 10^8~\\mathrm{K}$.  It may be the case that NCO could matter for a broader set of our models if the calculation was repeated with this higher core timerature.\n",
    "\n",
    "The models just discussed had constant accretion rates.  Time-varying accretion rates could have important effects, especially near threshold boundaries for NCO reactions.  Given this, the authors next explore binary evolution models that include time-varying accretion.  They model two systems.  Both have a $0.4 ~ M_{\\odot}$ He star donor.  One is donating onto a $0.8 ~ M_{\\odot}$ WD, the other onto a $1.0 ~ M_{\\odot}$ WD.  The impact on the $T-\\rho$ profile is shown in Figure 7.  NCO reactions lead to deeper (denser) ignition, shifting the temperature spike from burning deeper into the star.  The accreted shells have a mass of about $0.08 ~ M_{\\odot}$ for $1.0 ~ M_{\\odot}$ cores, a bit more massive than the models we've explored before (about $0.05 ~ M_{\\odot}$), but is still within the range of minimal shell masses that may explode and thus may be relevant for doube-detonation SNe Ia models.\n",
    "\n",
    "The rest of the paper doesn't add too much more that's relevant for us.  This paper suggests a model with a $1.0 ~ M_{\\odot}$ CO WD core and $0.08 ~ M_{\\odot}$ He-rich envelope and an initial model including the thermal impact of NCO could make for important Maestro science.  A question that would still be nice to answer is how much $^{14}C$ is in the envelope when runaway is about to go off (i.e. the point in the evolution that Maestro can reasonably start modeling). \n",
    "\n",
    "Finally, I'll note that some joker had a paper that pointed out alpha capture on $^{14}N$ can be almost as energetic as triple alpha (though, on log scale)  and is much more energetic that alpha capture on $^{12}C$ in the pre-explosive phase ([Jacobs et al 2016](http://adsabs.harvard.edu/abs/2016ApJ...827...84J))."
   ]
  }
 ],
 "metadata": {
  "kernelspec": {
   "display_name": "Python 3",
   "language": "python",
   "name": "python3"
  },
  "language_info": {
   "codemirror_mode": {
    "name": "ipython",
    "version": 3
   },
   "file_extension": ".py",
   "mimetype": "text/x-python",
   "name": "python",
   "nbconvert_exporter": "python",
   "pygments_lexer": "ipython3",
   "version": "3.6.4"
  }
 },
 "nbformat": 4,
 "nbformat_minor": 2
}
