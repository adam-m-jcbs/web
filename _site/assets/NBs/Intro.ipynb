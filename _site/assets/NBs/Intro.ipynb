{
 "cells": [
  {
   "cell_type": "markdown",
   "metadata": {},
   "source": [
    "DEL (DELETE THIS CELL WHEN DISTRIBUTING)  \n",
    "This notebook is for developing intro materials for PDP team 11's inquiry activity.  Cells marked with **DEL** at the top are only for design/notes and will be deleted for the version given to learners.\n",
    "\n",
    "**TODO**\n",
    "1. Review and adopt useful practices in CMSE NBs you have access to"
   ]
  },
  {
   "cell_type": "markdown",
   "metadata": {},
   "source": [
    "# Outline\n",
    "\n",
    "1. Overview of activity\n",
    "2. A basic finite difference\n",
    "3. A basic ODE meta-model (compartmental model)\n",
    "4. Mapping out an algorithm\n",
    "5. Putting this together to model the evolution of a system"
   ]
  },
  {
   "cell_type": "markdown",
   "metadata": {},
   "source": [
    "#  Overview of activity"
   ]
  },
  {
   "cell_type": "markdown",
   "metadata": {},
   "source": [
    "#  A basic finite difference"
   ]
  },
  {
   "cell_type": "markdown",
   "metadata": {},
   "source": [
    "#  A basic ODE meta-model (compartmental model)"
   ]
  },
  {
   "cell_type": "markdown",
   "metadata": {},
   "source": [
    "DEL\n",
    "\n",
    "**Compartmental model resources**\n",
    "* [CMSE NB](http://nbviewer.jupyter.org/url/amjacobs.net/assets/NBs/Day-10_In-Class_CompartmentalModeling-STUDENT.ipynb)\n",
    "* Wikipedia: [Multi-component model](https://en.wikipedia.org/wiki/Multi-compartment_model), [Compartmental model (epidemiology)](https://en.wikipedia.org/wiki/Compartmental_models_in_epidemiology)\n",
    "* Turku PET Centre: [Compartmental models](http://www.turkupetcentre.net/petanalysis/model_compartmental.html), [ODE solutions of compartmental models](http://www.turkupetcentre.net/petanalysis/model_ode.html)\n",
    "* PMOD: [Intro to compartmental models](http://www.pmod.com/files/download/v31/doc/pkin/4614.htm)"
   ]
  },
  {
   "cell_type": "markdown",
   "metadata": {},
   "source": [
    "In this section, we introduce the notion of a *compartmental model*.  While this modeling framework is typically seen in the medical field (e.g. epidemiology, physiology, related medical imaging), it can be used as a general framework for building basic models of many systems of interest in a variety of scientific disciplines. \n",
    "\n",
    "TODO continue narrative, introduce ODEs to make sure they don't get caught-up/intimidated by seeing an ODE.\n",
    "\n",
    "for now, outline and minimal info, you can add color/explanation to it later.\n",
    "\n",
    "Generic eqn:\n",
    "The evolution of each compartment $C_i$ in an $N$-compartment model is expressed as\n",
    "\n",
    "$\n",
    "\\begin{equation}\n",
    "    \\frac{dC_i(t)}{dt} = f_i(u_i(t), C_1(t), ... , C_N(t)),\n",
    "\\end{equation}\n",
    "$  \n",
    "where $u_i(t)$ is an input function.  There may be one for each compartment ($u_i(t)$), for only some, or only one may be specified for the whole model ($u(t)$).\n",
    "\n",
    "While it's useful to have this general definition, we'll get a better feel for compartmental models with some examples.\n",
    "\n",
    "First, let's consider a 1-compartment model composed of an input funtion and a single compartment $C_1$:\n",
    "\n",
    "$\n",
    "\\begin{equation}\n",
    "    \\frac{dC_1(t)}{dt} = K_1 u(t) - k_2 C_1(t).\n",
    "\\end{equation}\n",
    "$\n",
    "\n",
    "Loosely, this can be read as\n",
    "\n",
    "$\n",
    "\\begin{equation}\n",
    "    (\\text{change in \"amount\" of }C_1\\text{ over time})  =  \\\\\n",
    "        (\\text{rate of flow from } u \\text{ to } C_1) (\\text{\"amount\" in }u(t)) -\n",
    "        (\\text{rate of flow from } C_1 \\text{ out of the system}) (\\text{\"amount\" of }C_1).\n",
    "\\end{equation}\n",
    "$\n",
    "\n",
    "A diagram of this model can be given as:\n",
    "\n",
    "![basic 1-compartment](1comp_model_cartoon.png \"Basic 1-compartment\")\n",
    "\n",
    "Though some real systems are modeled with a 1-compartment model, we can learn a bit more about using compartmental models by adding another compartment that can be interacted with.  You may be able to determine how we'd express such a system by analogy with the 1-compartment model.\n",
    "\n",
    "We now have two compartments, so we'll want a $C_2(t)$. The quantity being tracked by a particular model can now flow in from the input function into $C_1$, which can in turn exchange with $C_2$, so we'll need some new coefficients for the rates describing such flows.  This could look like\n",
    "\n",
    "$\n",
    "\\begin{equation}\n",
    "    \\frac{dC_1(t)}{dt} = K_1 u(t) - (k_2 + k_3) C_1(t) + k_4 C_2(t),\\\\\n",
    "    \\frac{dC_2(t)}{dt} = k_3 C_1(t) - k_4 C_2(t) - k_5 C_2(t).\n",
    "\\end{equation}\n",
    "$\n",
    "\n",
    "We can represent this with a diagram as\n",
    "\n",
    "![basic 2-compartment](2comp_model_cartoon.png \"Basic 2-compartment\")\n",
    "\n",
    "You may realize this isn't the only way we could try a 2-compartment model.  Any given compartment may have (1) input from an input function (like $u(t)$ into $C_1$ proportional to $K_1$), (2) flow out into another compartment (like from $C_1$ to $C_2$ proportional to $k_3$), (3) flow in from another compartment (like from $C_2$ to $C_1$ proportional to $k_4$), or (4) output that leaves the system (like that marked with constants $k_2$ and $k_5$). For a given compartmental model, each compartment will only have whichever of these makes sense for the model.  Thus, with this basic framework you can model different systems, even if both models are 2-compartment.\n",
    "\n",
    "So far, we've been pretty generic.  We wanted to first get introduced to the basic concepts before getting our hands dirty.  But now we're ready for a real 2-compartment model that models the spread of diseases like the common cold that do not confer immunity after recovery.  This means people are either susceptible (S) to infection or are infectious (I) themselves.  Highly original scientists calls this the SI model of disease spread.  Let's look at the equations and diagram, then discuss it:\n",
    "\n",
    "$\n",
    "\\begin{equation}\n",
    "    \\frac{dS(t)}{dt} = \\mu N - \\frac{\\beta S I}{N} - \\nu S  \\\\\n",
    "    \\frac{dI(t)}{dt} = \\frac{\\beta S I}{N} - \\nu I\n",
    "\\end{equation}\n",
    "$\n",
    "\n",
    "![si_model](si_model_cartoon.png \"SI model\")\n",
    "\n",
    "$S(t)$ is the fraction of the population that's currently susceptible to infection.  The $\\frac{dS(t)}{dt}$ is saying that \n",
    "* (term 1) this population is increased by new births, with $\\mu$ being the rate at which people are born for a population of the size $N = S + I$, \n",
    "* (term 2) this population is decreased according to the rate ($\\beta$) at which susceptible individuals ($S$) in contact with infectious individuals ($I$) become infected, leaving $S$ and joining $I$, and finally\n",
    "* (term 3) this population is decreased acocrding to the mortality rate $\\nu$.\n",
    "\n",
    "Consider the $\\frac{dI(t)}{dt}$ and see if you can express in words what each term represents, similar to what we've just done for $\\frac{dS(t)}{dt}$.\n",
    "\n",
    "At this point, you should be equipped with enough understanding of compartmental models to be able to carry out an inquiry into what ODE models like this can tell us and what constraints there may be when solving them computationally."
   ]
  },
  {
   "cell_type": "markdown",
   "metadata": {},
   "source": [
    "#  Mapping out an algorithm"
   ]
  },
  {
   "cell_type": "markdown",
   "metadata": {},
   "source": [
    "#  Putting this together to model a system's evolution"
   ]
  }
 ],
 "metadata": {
  "kernelspec": {
   "display_name": "Python 3",
   "language": "python",
   "name": "python3"
  },
  "language_info": {
   "codemirror_mode": {
    "name": "ipython",
    "version": 3
   },
   "file_extension": ".py",
   "mimetype": "text/x-python",
   "name": "python",
   "nbconvert_exporter": "python",
   "pygments_lexer": "ipython3",
   "version": "3.7.0"
  }
 },
 "nbformat": 4,
 "nbformat_minor": 2
}
