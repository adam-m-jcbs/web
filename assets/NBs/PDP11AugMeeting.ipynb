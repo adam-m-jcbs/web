{
 "cells": [
  {
   "cell_type": "markdown",
   "metadata": {},
   "source": [
    "# PDP Team 11 Design/Course Prep Planning Meeting\n",
    "## August 9, 2018\n",
    "\n",
    "Meeting goal: discuss PDP team 11's current status and plan August activities.\n",
    "\n",
    "[Design notebook](https://docs.google.com/document/d/1iexo2xeYYIVDWD_pfgW4sOA5sRZSStsGNth-_bU_lrU/edit#)  \n",
    "[Teaching plan](https://docs.google.com/document/d/1xb4omX9AnZTlrfoPtOVJf1j6Hr_BCGGEwoEH_YzwSWc/edit)"
   ]
  },
  {
   "cell_type": "markdown",
   "metadata": {},
   "source": [
    "### Overview of Teaching Plan Status, Priorities\n",
    "\n",
    "**Teaching Plan Items**  \n",
    "~~Strikethrough~~ means drafted in Teaching Plan  \n",
    "* ~~Meta Info~~\n",
    "* Content learning outcomes  \n",
    "    * Requires: ~~Content rubric~~\n",
    "    * Requires: ~~Content prompt~~\n",
    "* Practice learning outcomes\n",
    "    * Requires: ~~Practice rubric~~\n",
    "* ~~E&I Approach~~\n",
    "* Inquiry Activity\n",
    "    * Set of ODE model systems for students to explore\n",
    "    * Introduction\n",
    "    * Raising Questions\n",
    "    * Investigations\n",
    "    * CAT (Culminating Assessment Task)\n",
    "    * Synthesis\n",
    "    \n",
    "Note that learning outcomes are largely derived from other elements, basically a different way of expressing the design elements.  Thus, these are not currently a priority and my current plan is to quickly draft these after the core of the inquiry activity is designed.\n",
    "\n",
    "**Priorities**  \n",
    "* Determine set of ODE model systems\n",
    "* Develop introduction materials, draft teaching plan section\n",
    "* Draft raising questions/investigations in teaching plan\n",
    "* Develop CAT, draft in teaching plan"
   ]
  },
  {
   "cell_type": "markdown",
   "metadata": {},
   "source": [
    "### Tasks"
   ]
  },
  {
   "cell_type": "markdown",
   "metadata": {},
   "source": [
    "+ Explore the prompt questions for a particular ODE model system\n",
    "    + Each team member does one (**Adam**, **Justin**, **Mallory**, **Philipp**)\n",
    "    + Some possibilities (feel free to find others, and if you think a non-compartmental ODE model may work well for the purposes of the activity that would be good to know about as well).\n",
    "    predator-prey  \n",
    "    disease spread (sometimes called SIR)  \n",
    "    spread of rumor (e.g. through social media)  \n",
    "    reaction network  \n",
    "    + Things to consider  \n",
    "    Be careful to relate back to the content rubric/prompt and how useful the model is for helping students engage with the dimensions.\n",
    "    Are there domains for certain ranges of model parameters? A model parameter is, for example, a constant in the ODE relating to modeled behavior, such as the breeding rate of rabbits in a Foxes/Rabbits predator-prey model  \n",
    "    What does convergence look like? What appear to be reasonable stepsizes?  \n",
    "    When we get back together, we'll consider common elements/design and how we'll teach the content rubric dimension of the general applicability of ODE methods to different models  \n",
    "    + Adam will work on getting some resources to the team regarding models and basics\n",
    "\n",
    "+ Develop Introduction Material, Draft in Teaching Plan (**Adam**)\n",
    "\n",
    "+ Draft Raising Questions, Investigations sections of Teaching Plan (**TBD**)\n",
    "\n",
    "+ Draft CAT (**TBD**)\n",
    "\n",
    "+ Draft Synthesis (not immediate priority) (**TBD**)\n"
   ]
  },
  {
   "cell_type": "markdown",
   "metadata": {},
   "source": [
    "### Next Meeting\n",
    "\n",
    "+ Discuss model exploration, decide on the model set we'll use\n",
    "+ Discuss intro, possibly approve draft (this is currently envisioned as Adam's responsibility due to me already having some experience with relevant CMSE materials)\n",
    "+ Plan and distribute tasks for the completion of the Inquiry Activity design, which will then be drafted in the Teaching Plan"
   ]
  },
  {
   "cell_type": "markdown",
   "metadata": {},
   "source": [
    "### Meeting notes"
   ]
  },
  {
   "cell_type": "markdown",
   "metadata": {},
   "source": []
  }
 ],
 "metadata": {
  "kernelspec": {
   "display_name": "Python 3",
   "language": "python",
   "name": "python3"
  },
  "language_info": {
   "codemirror_mode": {
    "name": "ipython",
    "version": 3
   },
   "file_extension": ".py",
   "mimetype": "text/x-python",
   "name": "python",
   "nbconvert_exporter": "python",
   "pygments_lexer": "ipython3",
   "version": "3.6.5"
  }
 },
 "nbformat": 4,
 "nbformat_minor": 2
}
