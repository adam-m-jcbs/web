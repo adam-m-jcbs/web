{
 "cells": [
  {
   "cell_type": "markdown",
   "metadata": {},
   "source": [
    "#### < Put your name here >"
   ]
  },
  {
   "cell_type": "code",
   "execution_count": null,
   "metadata": {
    "collapsed": true
   },
   "outputs": [],
   "source": [
    "# Execute this cell!\n",
    "%matplotlib inline\n",
    "import matplotlib.pyplot as plt\n",
    "import numpy as np\n",
    "from scipy.integrate import odeint\n",
    "from IPython.display import set_matplotlib_formats\n",
    "set_matplotlib_formats('pdf', 'svg')"
   ]
  },
  {
   "cell_type": "markdown",
   "metadata": {},
   "source": [
    "___\n",
    "<img src=\"http://scienceofdoom.files.wordpress.com/2014/07/lorenz63-first-50s-x-y-z.png\" width=\"400\" height=\"400\" />\n",
    "___"
   ]
  },
  {
   "cell_type": "markdown",
   "metadata": {},
   "source": [
    "___\n",
    "# Homework #7: Using the ODEINT Library to Model Systems with Coupled ODEs; The Butterfly Effect\n",
    "___\n",
    "\n",
    "<font color='brown'>__Sorry for all of the text here.__ </font>But, we want you to have a **very clear guide** right in front of you! Some of this will also be review from what we've already done in your in-class and pre-class assignments.\n",
    "\n",
    "In this assignment you are going to continue learning how to solve a wide class of models that are built out of ODEs. It turns out that this is extremely easy in Python because someone else wrote a library that is easy to use. All you need to do is wrap your brain around how the procedure is organized and then use that plan every time you use the library. Remember that `odeint` does not come from NumPy, although it very much uses it, but rather SciPy - look at the `import` command above.\n",
    "\n",
    "Here are the main things you need to know. **First**, the class of ODEs we will solve always have this form:\n",
    "    \n",
    "$$ \\frac{dy_1}{dt} = f_1(y_1,y_2,...,y_N),$$\n",
    "$$ \\frac{dy_2}{dt} = f_2(y_1,y_2,...,y_N),$$\n",
    "$$\\ldots$$\n",
    "$$ \\frac{dy_N}{dt} = f_N(y_1,y_2,...,y_N).$$\n",
    "\n",
    "Let's pause to think about this. There are $N$ equations, and that could be $N=1$ or $N=100$ - it doesn't matter. You can have as many as you need. Keep in mind that when you build a model for something your equations may not look like this yet. We saw an example earlier in the course in which we took a second-order ODE, not in this standard form, and converted it to two first-order ODEs, which is in this \"standard form\". (See the oscillator example below.) **Second**, note that if we always agree to write things in this form, the only thing we need to specify are the \"right-hand-sides\", which are $N$ functions $f_1, f_2, \\ldots, f_N$. These functions are the derivatives by definition, because that is the way we organize our equations. You can see why we must always write things exactly in this format. **Third**, all ODE systems like this come with their initial conditions. Since we have $N$ equations, each will need its personal $y_n(0)$; we will need to also set that up. So, we have two things so far that we need to deal with up front: \n",
    "* Write the equations in this standard form to get the \"right hand side\" derivatives.\n",
    "* Write down the initial conditions for the set of equations. \n",
    "\n",
    "What else could there be? **Fourth**, we need to know how long to run. In the above example, the variable $t$ was used, so let's call it \"time\"; but, it's jsut a symbol and it could be anything. So, between what times do we want to solve these equations? Surely not forever, but for how long? That gives us our third item to set up:\n",
    "* Store the range over which we want to solve the equations. \n",
    "\n",
    "This is getting long - anything else? Yup. **Fifth**, the model you constructed very likely has some parameters that need to be set first. So, \n",
    "* Initialize any parameters your models needs. \n",
    "\n",
    "Finally, **sixth**, call `odeint` to create the solution and, **seventh**, `plot` to reveal the results. Once things are set up, you are two lines of code away from seeing the solution!\n",
    "\n",
    "Let's itemize these seven steps in something more like code:\n",
    "1. Write your equations in standard form.\n",
    "2. Write a Python function with the derivatives $f_n$ coded that receives the argument information $(y_1,y_2,...,y_N)$ and returns all of the $f_n$ as a list/array. \n",
    "3. Make a list/array that the initial conditions; for $N$ equations, this list/array will have $N$ items: `[y_1(0), y_2(0),...,y_N(0)]`. \n",
    "4. Make a list/array with the information of the interval you want a solution. You can do this with something like `time = np.linspace(0,10)`.\n",
    "5. Set any parameters your model needs.\n",
    "6. Call `odeint`, get the output it generates\n",
    "7. `plot` your results (or, use them in some way)\n",
    "\n",
    "Here is the important thing to remember: solving ODEs with `odeint` is really easy as long as you systematially break it down into these little steps. Great. Let's try it."
   ]
  },
  {
   "cell_type": "markdown",
   "metadata": {},
   "source": [
    "___\n",
    "__Oscillator__\n",
    "___\n",
    "\n",
    "We have examined the oscillator previously, which describes many things you might want to model: mechanical systems, seasonal diseases, weather patterns, fashion, etc. Since we already know the answer, it provides a good check on whether we are using `odeint` correctly. Let's quickly review that. Consider the equation:\n",
    "    \n",
    "$$\\frac{d^2 x(t)}{dt^2} + \\omega_0^2 x(t) = 0,$$\n",
    "$$x(0) = 1,$$\n",
    "$$v(0) = 0,$$\n",
    "\n",
    "where two (arbitrary) initial conditions were chosen (change them if you want to see what happens). Step 1 is to write these in standard form, which we do in the usual way (breaking the equation into two first-order ODEs):\n",
    "\n",
    "$$\\frac{dx}{dt} = v,$$\n",
    "$$\\frac{dv}{dt} = -\\omega_0^2 x.$$\n",
    "\n",
    "Now, together we will write a Python function that inputs the current $v$ and $x$ and returns the derivatives. Here is the skeleton - make sure you understand its structure:"
   ]
  },
  {
   "cell_type": "code",
   "execution_count": null,
   "metadata": {
    "collapsed": true
   },
   "outputs": [],
   "source": [
    "# This function contains the derivatives for the oscillator ODEs.\n",
    "def osc_derivatives(state,time): # state is a vector of current values and time is the time array\n",
    "    x, v = state                 # unpack the incoming array\n",
    "    deriv1 = v\n",
    "    deriv2 = -omega_squared*x    # notice that omega_squared is a global variable so we didn't have to send it in through the arguments, although we could have\n",
    "    return deriv1, deriv2"
   ]
  },
  {
   "cell_type": "markdown",
   "metadata": {},
   "source": [
    "Now, let's continue with the other steps. We need to set up the initial conditions and model parameters before calling `odeint`."
   ]
  },
  {
   "cell_type": "code",
   "execution_count": null,
   "metadata": {
    "collapsed": true
   },
   "outputs": [],
   "source": [
    "# Here are the items we need to intialize before we can find a solution.\n",
    "time = np.linspace(0,10,60)       # these are the time points we want a solution at\n",
    "init_conditions = np.array([1,0]) # initial conditions for the two ODEs\n",
    "omega_squared = 2.0               # this is the (only) parameter for this model\n",
    "\n",
    "# solve the set of ODEs using these parameters, initial conditions and time points\n",
    "# pay extra attention to the syntax here!\n",
    "solution = odeint(osc_derivatives, init_conditions, time) # this returns a multidimensional array/list with the solutions in it"
   ]
  },
  {
   "cell_type": "markdown",
   "metadata": {},
   "source": [
    "That's it - **one line**! \n",
    "\n",
    "We can now plot the results..."
   ]
  },
  {
   "cell_type": "code",
   "execution_count": null,
   "metadata": {
    "collapsed": true
   },
   "outputs": [],
   "source": [
    "plt.plot(time,solution)\n",
    "plt.xlabel('time')\n",
    "plt.ylabel('both solutions')\n",
    "plt.grid()"
   ]
  },
  {
   "cell_type": "markdown",
   "metadata": {},
   "source": [
    "Using what you know about NumPy arrays, take the solution you just got, break the solution array (using slicing operations) into two separate arrays for each solution, make a new plot using two `plot` statements with labels, and add a legend. (Note that above we got two solutions into one variable, `solution`, and used it without breaking it up.) Put your code and plot here:"
   ]
  },
  {
   "cell_type": "code",
   "execution_count": null,
   "metadata": {
    "collapsed": true
   },
   "outputs": [],
   "source": [
    "# Your code here:\n",
    "x = solution[:,0]\n",
    "v = solution[:,1]"
   ]
  },
  {
   "cell_type": "markdown",
   "metadata": {},
   "source": [
    "Now that you have the results separated into separate arrays, make another plot of $v(t)$ versus $x(t)$. Sometimes we want to plot the variables relative to each other, **not versus the time variable**. Such plots are called \"[phase portraits](https://en.wikipedia.org/wiki/Phase_portrait)\" (or, sometimes \"phase plots\"). Add that plot here:"
   ]
  },
  {
   "cell_type": "code",
   "execution_count": null,
   "metadata": {
    "collapsed": true
   },
   "outputs": [],
   "source": [
    "# my phase portrait\n",
    "\n",
    "plt.plot(v,x)\n",
    "plt.title('Phase Portrait of the Simple Harmonic Oscillator')\n",
    "plt.xlabel('x(t)')\n",
    "plt.ylabel('v(t)')\n",
    "plt.grid()"
   ]
  },
  {
   "cell_type": "markdown",
   "metadata": {},
   "source": [
    "What shape do you get?"
   ]
  },
  {
   "cell_type": "markdown",
   "metadata": {},
   "source": []
  },
  {
   "cell_type": "markdown",
   "metadata": {},
   "source": [
    "A really good idea is to use the known solution to see if we did this right. The exact solution is:\n",
    "\n",
    "$$x(t) = \\cos(\\omega_0 t),$$\n",
    "$$v(t) = -\\omega_0 \\sin(\\omega_0 t).$$\n",
    "\n",
    "Let's add that to the plot."
   ]
  },
  {
   "cell_type": "code",
   "execution_count": null,
   "metadata": {
    "collapsed": true
   },
   "outputs": [],
   "source": [
    "# code the exact solution\n",
    "time_exact = np.linspace(0,10)\n",
    "x_exact = np.cos(np.sqrt(omega_squared)*time_exact)\n",
    "v_exact = -np.sqrt(omega_squared)*np.sin(np.sqrt(omega_squared)*time_exact)\n",
    "# plot everything together\n",
    "plt.plot(time_exact,x_exact,'b^', label='exact x(t)')\n",
    "plt.plot(time_exact,v_exact,'g^', label='exact v(t)')\n",
    "plt.plot(time,solution)\n",
    "plt.xlabel('time')\n",
    "plt.ylabel('both solutions')\n",
    "plt.title('comparison with exact result')\n",
    "plt.grid()"
   ]
  },
  {
   "cell_type": "markdown",
   "metadata": {},
   "source": [
    "Now, we want to see what our `linspace` choice made. In particular, we learned that the solution to ODEs is very sensitive to the step we take. Let's try to break `odeint` by forcing it to make small time steps. Go back up and make the `linspace` time array have fewer points in it, rerun, and compare with the exact. Do it for several choices and describe here what you see. How robust is `odeint`?"
   ]
  },
  {
   "cell_type": "markdown",
   "metadata": {},
   "source": [
    "Wow, this is _really_ interesting. What I found was...."
   ]
  },
  {
   "cell_type": "markdown",
   "metadata": {},
   "source": [
    "Now, suppose you wanted to know exactly what is inside the `odeint` black box. You trace it back to [this webpage](https://docs.scipy.org/doc/scipy-0.14.0/reference/generated/scipy.integrate.odeint.html) and it gives some information about that library was built into `odeint`. What is the library they used and who wrote it? Put the answer here:"
   ]
  },
  {
   "cell_type": "markdown",
   "metadata": {},
   "source": []
  },
  {
   "cell_type": "markdown",
   "metadata": {},
   "source": [
    "___\n",
    "<img src=\"http://www.awinningpersonality.com/wp-content/uploads/2015/11/ThinkstockPhotos-487124518.jpg\" width=\"400\" height=\"400\" />\n",
    "___"
   ]
  },
  {
   "cell_type": "markdown",
   "metadata": {},
   "source": [
    "___\n",
    "### Lorenz Model: The Butterfly Effect\n",
    "___\n",
    "\n",
    "Okay, now it is **your turn** to do this from scratch. \n",
    "\n",
    "<font color='brown'>You will be coding one of the most famous modeling problems of all time.</font> As you would no doubt guess, modeling the weather is incredibly difficult. At some point in time it was not well known why this is. A person named [Lorenz](https://en.wikipedia.org/wiki/Edward_Norton_Lorenz) made a huge advance in terms our understanding; to make progress, he took the usual equations for modeling the weather and simplified them further to really get at the crux of the issue, an important lesson in modeling itself. His equations revealed to the world what is known technically as \"chaos\" or, perhaps more commonly, the \"butterfly effect\".\n",
    "\n",
    "The equations describing weather are what are called \"partial differential equations\" and they are truly complicated; we won't touch them in this course. What Lorenz did was simplify them to just three coupled ODEs, which is now within **your** reach to solve; just use the rules we laid out above. The equations have three parameters that feed into three ODEs that evolve things in time (in most respects, these three variables have lost their simple meanings in terms of weather, but you can think of them as quantities like temperature, humidity, flow). Here is what they look like in standard form. \n",
    "\n",
    "$$ \\frac{\\mathrm{d}x}{\\mathrm{d}t} = \\sigma (y - x), $$\n",
    "$$\\frac{\\mathrm{d}y}{\\mathrm{d}t} = x (\\rho - z) - y, $$\n",
    "$$\\frac{\\mathrm{d}z}{\\mathrm{d}t} = x y - \\beta z.$$\n",
    "\n",
    "There are three parameters $\\sigma$, $\\rho$ and $\\beta$ and three initial conditions $x(0), y(0), z(0)$ for these equations. Now, using everything you learned above, you can see that it is an easy task to code the Lorenz model. So, code the Lorenz equations! \n",
    "\n",
    "For this part of the assignment you will run the model several times. So, before you get started coding, keep that in mind. The big deal with what Lorenz did was to discover chaos. What exactly is chaos? It is often phrased as _sensitive dependence to initial conditions_. What exactly does that mean? Well, now that you are becoming an expert in ODEs, we can make a lot of sense out of this. What it means is that when you change the initial conditions _very_ slightly, you get a _very_ different answer; that is, the actual result is very sensitive to what you begin with at $t=0$. We can test this by running the model several times with slightly different initial conditions and plotting all results in the same plot. The result is quite striking, so let's get coding. \n",
    "\n",
    "Make these plots:\n",
    "* three plots as part of a subplot (1x3) that have $x(t)$, $y(t)$ and $z(t)$; after the plot, comment on your findings\n",
    "* make three phase space plots be plotting each variable versus the others, as in $x$ versus $y$, $x$ versus $z$, and so on...\n",
    "\n",
    "Here is a code chunk to help you get started; otherwise, the plan is the same as above but now you're using the Lorenz equations. The only real difference here is that there are three equations rather than two.\n",
    "\n",
    "Be sure to use appropriate markings: legends, grids, titles, labels, etc. If you need to add text to your plot, read [this](http://matplotlib.org/examples/text_labels_and_annotations/text_demo_fontdict.html)."
   ]
  },
  {
   "cell_type": "code",
   "execution_count": null,
   "metadata": {
    "collapsed": true
   },
   "outputs": [],
   "source": [
    "# Write your function here that encodes the Lorenz equations\n",
    "# This is the \"derivatives\" function that odeint needs.\n",
    "# Note that instead of hard coding the constants into the function\n",
    "# we're passing them in as the 3rd, 4th, and 5th input variables\n",
    "def lorenz(incoming,time,sigma,rho,beta):\n",
    "    # you need to unpack the \"incoming\" values\n",
    "    \n",
    "    # put your derivative equations here\n",
    "    # and return their values\n",
    "\n",
    "# feel free to use the following code below as a guide\n",
    "\n",
    "time  = np.linspace(0,17.5,2000) # play with these values, especially the final time (it might take some time to see separation of trajectories)\n",
    "initial_cond = [1.,1.,1.]\n",
    "sigma = 10.0\n",
    "rho = 28.0\n",
    "beta = 8./3\n",
    "\n",
    "# Notice that we pass the parameters of the model through the argument here; above,\n",
    "# we accessed the parameter of the model because it was a \"global\" variable.\n",
    "solution_1 = odeint(lorenz, initial_cond, time, args=(sigma,rho,beta))\n",
    "\n",
    "# Find a second solution very close to the first.\n",
    "initial_cond = [1.,1.,1.01] # notice that this is very close to the other value; play with other initial conditions!\n",
    "solution_2 = odeint(lorenz, initial_cond, time, args=(sigma,rho,beta))\n",
    "\n",
    "plt.subplot(211)\n",
    "plt.plot(time,solution_1[:, 0])\n",
    "plt.grid()\n",
    "plt.subplot(212)\n",
    "plt.plot(solution_1[:, 0], solution_1[:, 2],'r', label='1') # we are plotting in \"phase space\", not versus time!\n",
    "plt.plot(solution_2[:, 0], solution_2[:, 2], 'b', label='2')"
   ]
  },
  {
   "cell_type": "markdown",
   "metadata": {},
   "source": [
    "Comment on your findings here. What did the results show you? Vary the length of time over which you find a solution; roughly, at what time do the two solutions begin to diverge from each other? What important lessons about modeling did you learn here? "
   ]
  },
  {
   "cell_type": "markdown",
   "metadata": {},
   "source": [
    "**I found.....**\n"
   ]
  },
  {
   "cell_type": "markdown",
   "metadata": {},
   "source": [
    "Okay, your final step is to make a plot like the one at the top of this notebook: the 3D version. Make a plot of $z$ versus $x$ and $y$. Make sure to have everything well labeled. Go [here](http://matplotlib.org/examples/mplot3d/lines3d_demo.html) for some hints on how to do this."
   ]
  },
  {
   "cell_type": "code",
   "execution_count": null,
   "metadata": {
    "collapsed": true
   },
   "outputs": [],
   "source": [
    "from mpl_toolkits.mplot3d import Axes3D\n",
    "fig = plt.figure()\n",
    "ax = Axes3D(fig)\n",
    "ax.plot(solution_1[:,0], solution_1[:,1], solution_1[:,2])\n",
    "ax.plot(solution_2[:,0], solution_2[:,1], solution_2[:,2])"
   ]
  },
  {
   "cell_type": "markdown",
   "metadata": {},
   "source": [
    "Congrats. You just explored one of the most important computational models ever created. The Lorenz model forever changed the way we think about what is possible; but, equally important, it made us think about how we can do better computational modeling in spite of the chaotic solutions many models yield.\n",
    "\n",
    "And, importantly, notice how short your code was given SciPy's `odeint`!\n",
    "\n",
    "Finally, comment in the empty markdown cell below about what the Lorenz model taught you about weather modeling. Suppose that someday you have a job with a weather service with the responsibility of predicting where and when a hurricane will hit land so that people can be evacuated in a timely manner."
   ]
  },
  {
   "cell_type": "markdown",
   "metadata": {},
   "source": []
  },
  {
   "cell_type": "markdown",
   "metadata": {},
   "source": [
    "**Done! Upload to D2L!** In class we will be exploring many more models like this, so make you sure you understand the pattern of solving ODEs this way."
   ]
  }
 ],
 "metadata": {
  "kernelspec": {
   "display_name": "Python 3",
   "language": "python",
   "name": "python3"
  },
  "language_info": {
   "codemirror_mode": {
    "name": "ipython",
    "version": 3
   },
   "file_extension": ".py",
   "mimetype": "text/x-python",
   "name": "python",
   "nbconvert_exporter": "python",
   "pygments_lexer": "ipython3",
   "version": "3.6.5"
  }
 },
 "nbformat": 4,
 "nbformat_minor": 2
}
