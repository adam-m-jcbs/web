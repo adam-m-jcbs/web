{
 "cells": [
  {
   "cell_type": "markdown",
   "metadata": {},
   "source": [
    "### <p style=\"text-align: right;\"> &#9989; Put your name here.</p>\n",
    "\n",
    "#### <p style=\"text-align: right;\"> &#9989; Put your group member names here.</p>"
   ]
  },
  {
   "cell_type": "markdown",
   "metadata": {},
   "source": [
    "# Day 10 In-class: Building Compartmental Models\n",
    "___\n",
    "\n",
    "### Goals for today's assignment:\n",
    "\n",
    "1. Think about how to build compartmental models for a variety of applications.\n",
    "\n",
    "### Assignment instructions:\n",
    "\n",
    "In today's class you will be building three compartmental models. **There will be no coding today**, although you will code models like these later in the week. The goal today is learning to construct models. \n",
    "\n",
    "To ensure you are able to complete all three, be sure to budget your time accordingly. One idea is to take the amount of time you have left as of right now, divide by three and set a timer. (For example, you can type `timer 40 minutes` into Google and it will start a timer for you.) The instructor will also help to keep you on time.\n",
    "\n",
    "You might start with:\n",
    "* 15 minutes to brainstorm with your group, drawing a variety of variants of possible models. \n",
    "* 10 minutes to write the answers to the questions below. (You will likely improve your model as you write this.)\n",
    "* 5 minutes to transition to the next model. \n",
    "\n",
    "**Read below to learn what you're expected to turn in for this assignment.**"
   ]
  },
  {
   "cell_type": "markdown",
   "metadata": {},
   "source": [
    "___\n",
    "## What you need to turn in at the end of class.\n",
    "___\n",
    "* The names of the people in your group.\n",
    "* A picture of each of the three compartmental models. You can draw these on the whiteboards and take a picture.\n",
    "   - Think about which compartments you will need: what are the interacting things your model needs?\n",
    "   - Think about how these things interact, and draw a diagram like this to show those connections. \n",
    "![compmod](http://www.pmod.com/files/download/v31/doc/pkin/2389.png)\n",
    "   - Think about whether the connections are arrows or just lines, do the errors go in both directions? Think about what is causing the influence of one compartment on another and at what rate that might be happening.\n",
    "   - Be creative: use different colors, sizes, line types (e.g., dashed): the goal is to be able to express your model in a form that you can discuss it logically and be able to ultimately use it as a guide for coding it (perhaps using ODEs).\n",
    "\n",
    "\n",
    "* A written description of each of the models:\n",
    "    - What are the compartments you chose? Why did you choose those? Which did you consider that you felt were not needed? \n",
    "    - What are the dependencies between the compartments? Are there transitions between all of the compartments? Or, do some of the compartments only influence the other compartments? \n",
    "    - How many parameters does your model have? How would you go about getting these parameters?\n",
    "    - Once this model is complete and coded, how would you test it? What could you use the model for?\n",
    "    \n",
    "Note that this project is fairly opened ended. This is because _reality_ is open ended. You will be assessed on your ability to work as a team to come up with a logical and credible model, not to find the \"correct\" answer (which likely doesn't exist anyway).\n",
    "\n",
    "One of the most important issues we face when building models is what needs to go into the model and what doesn't. Use whatever web resources you need to gather information and data; none of us are experts on the topics below, and a little research can help you build something credible."
   ]
  },
  {
   "cell_type": "markdown",
   "metadata": {},
   "source": [
    "____\n",
    "____"
   ]
  },
  {
   "cell_type": "markdown",
   "metadata": {},
   "source": [
    "___\n",
    "# Ecology: Sharks versus Cape Fur Seals\n",
    "___\n",
    "\n",
    "We'll take a moment to watch the following video as a class."
   ]
  },
  {
   "cell_type": "code",
   "execution_count": null,
   "metadata": {
    "collapsed": true
   },
   "outputs": [],
   "source": [
    "from IPython.display import YouTubeVideo\n",
    "YouTubeVideo('Qzxy3GtSzt0',width=640,height=360)"
   ]
  },
  {
   "cell_type": "markdown",
   "metadata": {},
   "source": [
    "In the waters around South Africa there are many seals, and these seals enjoy relaxing on the beach. ![test](http://www.biodiversityexplorer.org/mammals/carnivora/images/5d2_10125_658w.jpg)\n",
    "\n",
    "Unfortunately, these seals are food for the very deadly great white sharks. The problem is that sharks are drawn to the beaches because of the seals, but the beaches are also used by humans; the great whites don't have a big preference for seals versus humans - a meal is a meal. \n",
    "\n",
    "Design a compartmental model that describes this situation following the instructions given above. \n",
    "\n",
    "Use the markdown cell below to describe the compartmental models that you built and remember to upload a photo of your compartmental model.\n",
    "___"
   ]
  },
  {
   "cell_type": "markdown",
   "metadata": {},
   "source": [
    "Our models...."
   ]
  },
  {
   "cell_type": "markdown",
   "metadata": {},
   "source": [
    "____\n",
    "____"
   ]
  },
  {
   "cell_type": "markdown",
   "metadata": {},
   "source": [
    "___\n",
    "# Health: Infectious Disease Pandemic\n",
    "___\n",
    "\n",
    "Before moving to the next model, we'll take a moment to watch the following video as a class."
   ]
  },
  {
   "cell_type": "code",
   "execution_count": null,
   "metadata": {
    "collapsed": true
   },
   "outputs": [],
   "source": [
    "from IPython.display import YouTubeVideo\n",
    "YouTubeVideo('9axOFtPqS0c',width=640,height=360)"
   ]
  },
  {
   "cell_type": "markdown",
   "metadata": {},
   "source": [
    "Infectious diseases have killed millions of people in the past century. ![test](https://s-media-cache-ak0.pinimg.com/originals/92/52/d1/9252d1487c065b2f18e8c4c28f19198c.jpg)\n",
    "\n",
    "One class of diseases includes respiratory viral diseases, like the common cold, measles and influenza. \n",
    "\n",
    "Design a compartmental model that describes a population of people in which a new virus is introduced. Imagine that the virus is spread through the human population through only human-to-human interactions (for example, a cold, flu, HIV, but in contrast to the Zika virus, which is spread by infected mosquitos).\n",
    "\n",
    "Some things to consider:\n",
    "* Which human diseases do you get over and which ones do you keep for life?\n",
    "* Which diseases do humans get from other animals? How would you model that in comparison to a disease that is only transferred between humans?\n",
    "* How can your models include prevention, use of vaccines/drugs, or [social distancing](https://en.wikipedia.org/wiki/Social_distancing)?\n",
    "* How would models for these disease differ: HIV, cold, ebola, HPV? \n",
    "\n",
    "\n",
    "Use the markdown cell below to describe the compartmental models that you built and remember to upload a photo of your compartmental model.\n",
    "\n",
    "___\n"
   ]
  },
  {
   "cell_type": "markdown",
   "metadata": {},
   "source": [
    "Our models...."
   ]
  },
  {
   "cell_type": "markdown",
   "metadata": {},
   "source": [
    "____\n",
    "____"
   ]
  },
  {
   "cell_type": "markdown",
   "metadata": {},
   "source": [
    "___\n",
    "# Social Science: Spread of Rumors\n",
    "___\n",
    "\n",
    "Before starting the final model, we'll take a moment to watch the following video as a class."
   ]
  },
  {
   "cell_type": "code",
   "execution_count": null,
   "metadata": {
    "collapsed": true
   },
   "outputs": [],
   "source": [
    "from IPython.display import YouTubeVideo\n",
    "YouTubeVideo('g8GKJ1GwFvg',width=640,height=360)"
   ]
  },
  {
   "cell_type": "markdown",
   "metadata": {},
   "source": [
    "Rumors have been with us as long as we have been here. ![test](http://cdn.quotesgram.com/small/44/92/1770408140-rumors_xlarge.jpeg)\n",
    "\n",
    "It has not always been well understood how rumors start, how long they last and why they seem to die away. This particular problem is connected to how jokes spread, how propaganda can be used against a society and how people develop their culture. \n",
    "\n",
    "Design a compartmental model that describes how a rumor spreads through society. \n",
    "\n",
    "Think about recent events in the news that involve influencing presidental elections using social media. How would you model this?\n",
    "\n",
    "\n",
    "Use the markdown cell below to describe the compartmental models that you built and remember to upload a photo of your compartmental model.\n",
    "___\n"
   ]
  },
  {
   "cell_type": "markdown",
   "metadata": {},
   "source": [
    "Our models....."
   ]
  },
  {
   "cell_type": "markdown",
   "metadata": {},
   "source": [
    "---\n",
    "## Assignment Wrap-up\n",
    "\n",
    "Please fill out the form that appears when you run the code below.  **You must completely fill this out in order to receive credit for the assignment!**"
   ]
  },
  {
   "cell_type": "code",
   "execution_count": null,
   "metadata": {
    "collapsed": true
   },
   "outputs": [],
   "source": [
    "from IPython.display import HTML\n",
    "HTML(\n",
    "\"\"\"\n",
    "<iframe \n",
    "\tsrc=\"https://goo.gl/forms/l2vUzI1sMigULTxp2\" \n",
    "\twidth=\"80%\" \n",
    "\theight=\"1200px\" \n",
    "\tframeborder=\"0\" \n",
    "\tmarginheight=\"0\" \n",
    "\tmarginwidth=\"0\">\n",
    "\tLoading...\n",
    "</iframe>\n",
    "\"\"\"\n",
    ")"
   ]
  },
  {
   "cell_type": "markdown",
   "metadata": {},
   "source": [
    "### Congratulations, you're done!\n",
    "\n",
    "Submit this assignment by uploading your notebook and the pictures of your models it to the course Desire2Learn web page.  Go to the \"In-Class Assignments\" folder, find the dropbox link for Day 10, and upload everything there. Make sure your name is on it!"
   ]
  }
 ],
 "metadata": {
  "kernelspec": {
   "display_name": "Python 3",
   "language": "python",
   "name": "python3"
  },
  "language_info": {
   "codemirror_mode": {
    "name": "ipython",
    "version": 3
   },
   "file_extension": ".py",
   "mimetype": "text/x-python",
   "name": "python",
   "nbconvert_exporter": "python",
   "pygments_lexer": "ipython3",
   "version": "3.6.5"
  }
 },
 "nbformat": 4,
 "nbformat_minor": 2
}
